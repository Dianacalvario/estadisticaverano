{
  "nbformat": 4,
  "nbformat_minor": 0,
  "metadata": {
    "colab": {
      "provenance": [],
      "include_colab_link": true
    },
    "kernelspec": {
      "name": "python3",
      "display_name": "Python 3"
    },
    "language_info": {
      "name": "python"
    }
  },
  "cells": [
    {
      "cell_type": "markdown",
      "metadata": {
        "id": "view-in-github",
        "colab_type": "text"
      },
      "source": [
        "<a href=\"https://colab.research.google.com/github/Dianacalvario/estadisticaverano/blob/main/EjerciciosSeries.ipynb\" target=\"_parent\"><img src=\"https://colab.research.google.com/assets/colab-badge.svg\" alt=\"Open In Colab\"/></a>"
      ]
    },
    {
      "cell_type": "markdown",
      "source": [
        "## Operaciones con Series"
      ],
      "metadata": {
        "id": "P92zIggcxbwg"
      }
    },
    {
      "cell_type": "markdown",
      "source": [
        "Un grupo de estudiantes registró las horas que dedicaron a estudiar durante una semana. Los datos (en horas) son los siguientes:\n",
        "\n",
        "Datos: `0, 3, 3, 2, 4, 5, 1, 2, 1, 6, 0, 5, 2`\n",
        "\n",
        "Calcula la media del número de horas estudiadas.\n",
        "\n",
        "Calcula la varianza de los datos.\n",
        "\n",
        "Calcula la desviación estándar.\n",
        "\n",
        "¿La varianza y la desviación estándar corresponden a una muestra o a una población?"
      ],
      "metadata": {
        "id": "wDmgCOx_xmYK"
      }
    },
    {
      "cell_type": "markdown",
      "source": [
        "desviación para muestra"
      ],
      "metadata": {
        "id": "zFQhF-XA2JH-"
      }
    },
    {
      "cell_type": "code",
      "execution_count": null,
      "metadata": {
        "id": "utRBPnGYxYBS",
        "colab": {
          "base_uri": "https://localhost:8080/"
        },
        "outputId": "b5c0eab3-b1cb-4a5f-f4f7-f22ba3355a72"
      },
      "outputs": [
        {
          "output_type": "stream",
          "name": "stdout",
          "text": [
            "el promedio es 2.6153846153846154\n",
            "la varianza es 3.756410256410257\n",
            "la desviacion estandar es 1.9381460874790262\n"
          ]
        }
      ],
      "source": [
        "serie_datos = [0, 3, 3, 2, 4, 5, 1, 2, 1, 6, 0, 5, 2]\n",
        "import pandas as pd\n",
        "serie_datos=pd.Series(datos)\n",
        "print(\"el promedio es\", serie_datos.mean())\n",
        "print(\"la varianza es\", serie_datos.var())\n",
        "print(\"la desviacion estandar es\", serie_datos.std())"
      ]
    },
    {
      "cell_type": "markdown",
      "source": [
        "Usando los datos del ejercicio anterior, realiza lo siguiente:\n",
        "\n",
        "Sumale 2 a cada uno de los elementos\n",
        "\n",
        "Multiplica por 3 cada uno de los elementos\n",
        "\n",
        "Eleva al cuadrado cada uno de los elementos\n",
        "\n"
      ],
      "metadata": {
        "id": "KJ9u-DhK3uMO"
      }
    },
    {
      "cell_type": "markdown",
      "source": [],
      "metadata": {
        "id": "OYLB0DUX1_Za"
      }
    },
    {
      "cell_type": "code",
      "source": [
        "suma=serie_datos+2\n",
        "print(suma)\n",
        "multiplicacion=serie_datos*3\n",
        "print(multiplicacion)\n",
        "cuadrado=serie_datos**2\n",
        "print(cuadrado)"
      ],
      "metadata": {
        "id": "yJQYMqF03yRb",
        "colab": {
          "base_uri": "https://localhost:8080/"
        },
        "outputId": "c373c28f-91e1-45e9-d803-fdb64df1bc2d"
      },
      "execution_count": null,
      "outputs": [
        {
          "output_type": "stream",
          "name": "stdout",
          "text": [
            "0     2\n",
            "1     5\n",
            "2     5\n",
            "3     4\n",
            "4     6\n",
            "5     7\n",
            "6     3\n",
            "7     4\n",
            "8     3\n",
            "9     8\n",
            "10    2\n",
            "11    7\n",
            "12    4\n",
            "dtype: int64\n",
            "0      0\n",
            "1      9\n",
            "2      9\n",
            "3      6\n",
            "4     12\n",
            "5     15\n",
            "6      3\n",
            "7      6\n",
            "8      3\n",
            "9     18\n",
            "10     0\n",
            "11    15\n",
            "12     6\n",
            "dtype: int64\n",
            "0      0\n",
            "1      9\n",
            "2      9\n",
            "3      4\n",
            "4     16\n",
            "5     25\n",
            "6      1\n",
            "7      4\n",
            "8      1\n",
            "9     36\n",
            "10     0\n",
            "11    25\n",
            "12     4\n",
            "dtype: int64\n"
          ]
        }
      ]
    },
    {
      "cell_type": "markdown",
      "source": [
        "Usando los datos del primer ejercicio, realiza lo siguiente:\n",
        "\n",
        "Resta 5 a cada uno de los elementos y realiza la suma de los elementos resultantes\n",
        "\n",
        "Multiplica por 2 cada uno de los elementos y realiza la suma\n",
        "\n",
        "Eleva al cuadrado cada uno de los elementos y después realiza la suma de los elementos resultantes\n",
        "\n",
        "Realiza la suma de los elementos y después eleva al cuadrado"
      ],
      "metadata": {
        "id": "apcmieWx4D7e"
      }
    },
    {
      "cell_type": "code",
      "source": [
        "resta_cinco=serie_datos-5\n",
        "print(resta_cinco)\n",
        "print(resta_cinco.sum())\n",
        "multiplicacion_dos=serie_datos*2\n",
        "print(multiplicacion_dos)\n",
        "print(multiplicacion_dos.sum())\n",
        "cuadrado=serie_datos**2\n",
        "print(cuadrado)\n",
        "print(cuadrado.sum())"
      ],
      "metadata": {
        "id": "9LFCPshT4wF7",
        "colab": {
          "base_uri": "https://localhost:8080/"
        },
        "outputId": "f1439cd3-5bf6-48c1-f44e-2b3855bbe856"
      },
      "execution_count": null,
      "outputs": [
        {
          "output_type": "stream",
          "name": "stdout",
          "text": [
            "0    -5\n",
            "1    -2\n",
            "2    -2\n",
            "3    -3\n",
            "4    -1\n",
            "5     0\n",
            "6    -4\n",
            "7    -3\n",
            "8    -4\n",
            "9     1\n",
            "10   -5\n",
            "11    0\n",
            "12   -3\n",
            "dtype: int64\n",
            "-31\n",
            "0      0\n",
            "1      6\n",
            "2      6\n",
            "3      4\n",
            "4      8\n",
            "5     10\n",
            "6      2\n",
            "7      4\n",
            "8      2\n",
            "9     12\n",
            "10     0\n",
            "11    10\n",
            "12     4\n",
            "dtype: int64\n",
            "68\n",
            "0      0\n",
            "1      9\n",
            "2      9\n",
            "3      4\n",
            "4     16\n",
            "5     25\n",
            "6      1\n",
            "7      4\n",
            "8      1\n",
            "9     36\n",
            "10     0\n",
            "11    25\n",
            "12     4\n",
            "dtype: int64\n",
            "134\n"
          ]
        }
      ]
    }
  ]
}