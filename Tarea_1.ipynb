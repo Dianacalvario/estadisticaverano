{
  "nbformat": 4,
  "nbformat_minor": 0,
  "metadata": {
    "colab": {
      "provenance": [],
      "include_colab_link": true
    },
    "kernelspec": {
      "name": "python3",
      "display_name": "Python 3"
    },
    "language_info": {
      "name": "python"
    }
  },
  "cells": [
    {
      "cell_type": "markdown",
      "metadata": {
        "id": "view-in-github",
        "colab_type": "text"
      },
      "source": [
        "<a href=\"https://colab.research.google.com/github/Dianacalvario/estadisticaverano/blob/main/Tarea_1.ipynb\" target=\"_parent\"><img src=\"https://colab.research.google.com/assets/colab-badge.svg\" alt=\"Open In Colab\"/></a>"
      ]
    },
    {
      "cell_type": "markdown",
      "source": [
        "# Tipos de datos: flotantes (float)\n",
        "Declara dos variables de tipo flotante que tengan por nombre `a` y `b`. Después muéstralas usando la función `print`.\n",
        "\n",
        "\n"
      ],
      "metadata": {
        "id": "RWt28y6BDzzT"
      }
    },
    {
      "cell_type": "code",
      "execution_count": null,
      "metadata": {
        "id": "Dh2HcNCMDxmY"
      },
      "outputs": [],
      "source": [
        "a=2.5\n",
        "b=3.5"
      ]
    },
    {
      "cell_type": "markdown",
      "source": [
        "Declara una variable `c` cuyo valor sea $\\frac{b^2}{4a}-3$, muéstralo en pantalla usando la función `print`.\n",
        "\n"
      ],
      "metadata": {
        "id": "kOWRNQD9KZ3T"
      }
    },
    {
      "cell_type": "code",
      "source": [
        "a=2.5\n",
        "b=3.5\n",
        "c=(b**2)/(3.5*a)-3\n",
        "print(c)"
      ],
      "metadata": {
        "id": "4Kd2Pth5LPux",
        "colab": {
          "base_uri": "https://localhost:8080/"
        },
        "outputId": "6bb72b9e-aa9e-4791-b0d1-42b9a821510e"
      },
      "execution_count": null,
      "outputs": [
        {
          "output_type": "stream",
          "name": "stdout",
          "text": [
            "-1.6\n"
          ]
        }
      ]
    },
    {
      "cell_type": "markdown",
      "source": [
        "Declara las variables:\n",
        "$$x_1 = \\frac{-b + \\sqrt{b^2 - 4ac}}{2a}$$ <br>\n",
        "$$x_2 = \\frac{-b - \\sqrt{b^2 - 4ac}}{2a}$$ <br>\n",
        "Muéstralas en pantalla usando la función `print`."
      ],
      "metadata": {
        "id": "YmFfmkiOLXbk"
      }
    },
    {
      "cell_type": "code",
      "source": [
        "x_1=(b+((b**2)-(4*a*c))**0.5)/(2*a)\n",
        "x_2=(b-((b**2)-(4*a*c))**0.5)/(2*a)\n",
        "print(x_1)\n",
        "print(x_2)"
      ],
      "metadata": {
        "id": "QSFiwnIJLfDL",
        "colab": {
          "base_uri": "https://localhost:8080/"
        },
        "outputId": "f015f4be-703d-472f-f534-9878a4489eff"
      },
      "execution_count": null,
      "outputs": [
        {
          "output_type": "stream",
          "name": "stdout",
          "text": [
            "1.763014581273465\n",
            "-0.363014581273465\n"
          ]
        }
      ]
    },
    {
      "cell_type": "markdown",
      "source": [
        "Usa `type` para saber qué tipo de dato es $x_1$"
      ],
      "metadata": {
        "id": "QjWmahAlMEe_"
      }
    },
    {
      "cell_type": "code",
      "source": [
        "type(x_1)"
      ],
      "metadata": {
        "id": "X671SWpZMM7o",
        "colab": {
          "base_uri": "https://localhost:8080/"
        },
        "outputId": "1c2481ae-ec71-48bb-8c3a-ef66b18f914d"
      },
      "execution_count": null,
      "outputs": [
        {
          "output_type": "execute_result",
          "data": {
            "text/plain": [
              "float"
            ]
          },
          "metadata": {},
          "execution_count": 5
        }
      ]
    },
    {
      "cell_type": "markdown",
      "source": [
        "# Tipos de datos: boleanos (bool)\n",
        "\n",
        "Declara una variable llamada `mayor_que` cuyo valor sea `a > b`. Imprime en pantalla `a`, `b` y `mayor_que`. ¿Qué crees que signifique el valor de `mayor_que`?"
      ],
      "metadata": {
        "id": "7y-4H2ELMuLD"
      }
    },
    {
      "cell_type": "code",
      "source": [
        "mayor_que=a>b\n",
        "print(a)\n",
        "print(b)\n",
        "print(mayor_que)"
      ],
      "metadata": {
        "id": "o3CKfK3cNfXp",
        "colab": {
          "base_uri": "https://localhost:8080/"
        },
        "outputId": "7f1d46fe-62d8-460a-c7e1-a340bc4208ca"
      },
      "execution_count": null,
      "outputs": [
        {
          "output_type": "stream",
          "name": "stdout",
          "text": [
            "2.5\n",
            "3.5\n",
            "False\n"
          ]
        }
      ]
    },
    {
      "cell_type": "markdown",
      "source": [
        "Declara una variable llamada `mayor_o_igual_que` cuyo valor sea `a >= b`. Imprime en pantalla `a`, `b` y `mayor_o_igual_que`. ¿Qué crees que signifique el valor de `mayor_o_igual_que`?"
      ],
      "metadata": {
        "id": "BAczf10jZ4ID"
      }
    },
    {
      "cell_type": "code",
      "source": [
        "mayor_o_igual_que=a>=b\n",
        "print(a)\n",
        "print(b)\n",
        "print(mayor_o_igual_que)"
      ],
      "metadata": {
        "id": "ZnPuv1MsZ4cb",
        "colab": {
          "base_uri": "https://localhost:8080/"
        },
        "collapsed": true,
        "outputId": "068b577f-b34e-44f7-d90e-c60cbbef7021"
      },
      "execution_count": null,
      "outputs": [
        {
          "output_type": "stream",
          "name": "stdout",
          "text": [
            "2.5\n",
            "3.5\n",
            "False\n"
          ]
        }
      ]
    },
    {
      "cell_type": "markdown",
      "source": [
        "Declara una variable con el nombre de `es_igual` cuyo valor sea `a == b`. Imprime en pantalla `a`, `b`, y `es_igual` ¿Qué crees que signifique el resultado de `es_igual`?"
      ],
      "metadata": {
        "id": "OWfchV0UNizG"
      }
    },
    {
      "cell_type": "code",
      "source": [
        "es_igual=a==b\n",
        "print(a)\n",
        "print(b)\n",
        "print(es_igual)"
      ],
      "metadata": {
        "id": "A5eewm6yOQn-",
        "colab": {
          "base_uri": "https://localhost:8080/"
        },
        "outputId": "efcaded8-1374-481e-b6db-b2b0a188e96c"
      },
      "execution_count": null,
      "outputs": [
        {
          "output_type": "stream",
          "name": "stdout",
          "text": [
            "2.5\n",
            "3.5\n",
            "False\n"
          ]
        }
      ]
    },
    {
      "cell_type": "markdown",
      "source": [
        "Declara una variable con el nombre de `es_desigual` cuyo valor sea `a != b`. Imprime en pantalla `a`, `b`, y `es_desigual` ¿Qué crees que signifique el resultado de `es_desigual`?"
      ],
      "metadata": {
        "id": "BlGpY3C-aID6"
      }
    },
    {
      "cell_type": "code",
      "source": [
        "es_igual=a!=b\n",
        "print(a)\n",
        "print(b)\n",
        "print(es_igual)"
      ],
      "metadata": {
        "id": "1iQgMlt9aIPp",
        "colab": {
          "base_uri": "https://localhost:8080/"
        },
        "outputId": "00993cea-a9d3-4e13-c7d3-72f24a50348d"
      },
      "execution_count": null,
      "outputs": [
        {
          "output_type": "stream",
          "name": "stdout",
          "text": [
            "2.5\n",
            "3.5\n",
            "True\n"
          ]
        }
      ]
    },
    {
      "cell_type": "markdown",
      "source": [
        "Declara una variable llamada `verdadero` cuyo valor sea `True` y otra variable llamada `falso` cuyo valor sea `False`. Imprime ambos valores en pantalla. Además, usando la función `type`, obtén el tipo de dato que es `verdader` y `falso`."
      ],
      "metadata": {
        "id": "7EnSab2UOX_v"
      }
    },
    {
      "cell_type": "code",
      "source": [
        "verdadero=True\n",
        "falso=False\n",
        "print(verdadero)\n",
        "print(falso)\n",
        "type(verdadero)\n",
        "type(falso)"
      ],
      "metadata": {
        "id": "EgRwz_eqZoc8",
        "colab": {
          "base_uri": "https://localhost:8080/"
        },
        "outputId": "9dea8401-5a2a-4228-9d08-64449c54824e"
      },
      "execution_count": null,
      "outputs": [
        {
          "output_type": "stream",
          "name": "stdout",
          "text": [
            "True\n",
            "False\n"
          ]
        },
        {
          "output_type": "execute_result",
          "data": {
            "text/plain": [
              "bool"
            ]
          },
          "metadata": {},
          "execution_count": 18
        }
      ]
    },
    {
      "cell_type": "markdown",
      "source": [
        "# Nueva sección"
      ],
      "metadata": {
        "id": "RYSTM593LP5p"
      }
    },
    {
      "cell_type": "markdown",
      "source": [
        "Mediante `print` imprime sólo tu primer apellido utilizando slicing en la variable `nombre`. Recuerda que slicing es: `lista[inicio:fin:paso]`."
      ],
      "metadata": {
        "id": "QxAiswQ7GlHe"
      }
    },
    {
      "cell_type": "markdown",
      "source": [
        "# Tipo de datos: cadena de caractéres (strings)\n",
        "\n",
        "Declara una variable `nombre` cuyo valor es tu nombre completo con apellidos. Ejemplo: <br><br>\n",
        "```nombre = 'Faustino Perez Díaz'```\n",
        "<br><br>\n",
        "Mediante la función `print` imprime las iniciales de tu nombre tomadas de la variable `nombre`."
      ],
      "metadata": {
        "id": "WJeaF8CVaoxb"
      }
    },
    {
      "cell_type": "code",
      "source": [
        "nombre= 'Diana Karina Calvario'\n",
        "print(nombre[0])\n",
        "print(nombre[6])\n",
        "print(nombre[13])\n"
      ],
      "metadata": {
        "colab": {
          "base_uri": "https://localhost:8080/"
        },
        "id": "F6H2lAbmFDUF",
        "outputId": "bc6afb63-8553-44a9-c494-e511f6e1bc81"
      },
      "execution_count": null,
      "outputs": [
        {
          "output_type": "stream",
          "name": "stdout",
          "text": [
            "D\n",
            "K\n",
            "C\n"
          ]
        }
      ]
    },
    {
      "cell_type": "markdown",
      "source": [
        "Aplica el método `.upper()` a la variable `nombre` e imprime el resultado."
      ],
      "metadata": {
        "id": "JO-uttyYHCk4"
      }
    },
    {
      "cell_type": "code",
      "source": [
        "print(nombre.upper())"
      ],
      "metadata": {
        "id": "RcOhyHYUHgyZ",
        "colab": {
          "base_uri": "https://localhost:8080/"
        },
        "outputId": "8951047d-e5f6-4012-d40a-849e6fcfe00a"
      },
      "execution_count": null,
      "outputs": [
        {
          "output_type": "stream",
          "name": "stdout",
          "text": [
            "DIANA KARINA CALVARIO\n"
          ]
        }
      ]
    }
  ]
}